{
 "cells": [
  {
   "cell_type": "code",
   "execution_count": 4,
   "id": "2c992d52",
   "metadata": {},
   "outputs": [
    {
     "name": "stdout",
     "output_type": "stream",
     "text": [
      "             Algorithm  Accuracy  Recall  F1 score  Precision      Avg  \\\n",
      "0               1D-CNN     98.18      96        98         99  97.7950   \n",
      "1                 LSTM     49.46      50        55         62  54.1150   \n",
      "2                  MLP     97.94      98        97         96  97.2350   \n",
      "3                  RNN     50.57      50        34         25  39.8925   \n",
      "4        Random Forest     98.00      98        98         99  98.2500   \n",
      "5        Decision Tree     82.00      83        83         86  83.5000   \n",
      "6                  KNN     81.00      83        84         86  83.5000   \n",
      "7                  SVM     83.00      83        85         86  84.2500   \n",
      "8  Logistic Regression     81.00      83        83         84  82.7500   \n",
      "\n",
      "   Best in how many matrix  \n",
      "0                        3  \n",
      "1                        0  \n",
      "2                        1  \n",
      "3                        0  \n",
      "4                        3  \n",
      "5                        0  \n",
      "6                        0  \n",
      "7                        0  \n",
      "8                        0  \n"
     ]
    }
   ],
   "source": [
    "import pandas as pd\n",
    "\n",
    "\n",
    "# Assuming your data is in a DataFrame called df\n",
    "data = {\n",
    "    'Algorithm': ['1D-CNN', 'LSTM', 'MLP', 'RNN', 'Random Forest', 'Decision Tree', 'KNN', 'SVM', 'Logistic Regression'],\n",
    "    'Accuracy' : [98.18, 49.46, 97.94, 50.57, 98, 82, 81, 83, 81],\n",
    "    'Recall': [96, 50, 98, 50, 98, 83, 83, 83, 83],\n",
    "    'F1 score': [98, 55, 97, 34, 98, 83, 84, 85, 83],\n",
    "    'Precision': [99, 62, 96, 25, 99, 86, 86, 86, 84],   \n",
    "}\n",
    "\n",
    "df = pd.DataFrame(data)\n",
    "# Calculate the average for each algorithm/model\n",
    "df['Avg'] = df[['Accuracy', 'Recall', 'F1 score', 'Precision']].mean(axis=1)\n",
    "\n",
    "# Determine the best in how many metrics\n",
    "best_counts = (df[['Accuracy', 'Recall', 'F1 score', 'Precision']] == df[['Accuracy', 'Recall', 'F1 score', 'Precision']].max()).sum(axis=1)\n",
    "df['Best in how many matrix'] = best_counts\n",
    "\n",
    "print(df)"
   ]
  },
  {
   "cell_type": "code",
   "execution_count": 6,
   "id": "90e93140",
   "metadata": {},
   "outputs": [
    {
     "name": "stdout",
     "output_type": "stream",
     "text": [
      "Ranking based on Composite Score:\n",
      "             Algorithm  Composite Score  Rank\n",
      "4        Random Forest         0.999384   1.0\n",
      "0               1D-CNN         0.991756   2.0\n",
      "2                  MLP         0.875808   3.0\n",
      "7                  SVM         0.626204   4.0\n",
      "5        Decision Tree         0.615433   5.0\n",
      "6                  KNN         0.614616   6.0\n",
      "8  Logistic Regression         0.605365   7.0\n",
      "1                 LSTM         0.178640   8.0\n",
      "3                  RNN         0.003797   9.0\n"
     ]
    }
   ],
   "source": [
    "import pandas as pd\n",
    "from sklearn.preprocessing import MinMaxScaler\n",
    "\n",
    "# Assuming your data is in a DataFrame called df\n",
    "data = {\n",
    "    'Algorithm': ['1D-CNN', 'LSTM', 'MLP', 'RNN', 'Random Forest', 'Decision Tree', 'KNN', 'SVM', 'Logistic Regression'],\n",
    "    'Accuracy' : [98.18, 49.46, 97.94, 50.57, 98, 82, 81, 83, 81],\n",
    "    'Recall': [96, 50, 98, 50, 98, 83, 83, 83, 83],\n",
    "    'F1 score': [98, 55, 97, 34, 98, 83, 84, 85, 83],\n",
    "    'Precision': [99, 62, 96, 25, 99, 86, 86, 86, 84],\n",
    "    'Avg': [97.795, 54.115, 97.235, 39.8925, 98.25, 83.5, 83.5, 84.25, 82.75],\n",
    "    'Best in how many matrix': [3, 0, 1, 0, 3, 0, 0, 0, 0]\n",
    "}\n",
    "\n",
    "df = pd.DataFrame(data)\n",
    "# Normalize the metrics\n",
    "scaler = MinMaxScaler()\n",
    "metrics = ['Accuracy', 'Recall', 'F1 score', 'Precision', 'Avg', 'Best in how many matrix']\n",
    "df[metrics] = scaler.fit_transform(df[metrics])\n",
    " \n",
    "# Calculate the composite score (equal weights for simplicity)\n",
    "df['Composite Score'] = df[metrics].mean(axis=1)\n",
    " \n",
    "# Rank the models based on the composite score\n",
    "df['Rank'] = df['Composite Score'].rank(ascending=False, method='min')\n",
    " \n",
    "# Sort the DataFrame by the rank\n",
    "df_sorted = df.sort_values(by='Rank')\n",
    " \n",
    "print(\"Ranking based on Composite Score:\")\n",
    "print(df_sorted[['Algorithm', 'Composite Score', 'Rank']])"
   ]
  },
  {
   "cell_type": "code",
   "execution_count": null,
   "id": "55f481da",
   "metadata": {},
   "outputs": [],
   "source": []
  }
 ],
 "metadata": {
  "kernelspec": {
   "display_name": "Python 3 (ipykernel)",
   "language": "python",
   "name": "python3"
  },
  "language_info": {
   "codemirror_mode": {
    "name": "ipython",
    "version": 3
   },
   "file_extension": ".py",
   "mimetype": "text/x-python",
   "name": "python",
   "nbconvert_exporter": "python",
   "pygments_lexer": "ipython3",
   "version": "3.11.5"
  }
 },
 "nbformat": 4,
 "nbformat_minor": 5
}
